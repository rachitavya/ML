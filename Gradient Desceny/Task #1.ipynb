import numpy as np
import math
import pandas as pd

def gradient_descent(x,y) :
    m=b=0
    i=10000
    n=len(x)
    lr=0.0002
    
    for j in range(i):
        yp=m*x+b
        cost=(1/n)*sum([val**2 for val in (y-yp)])
        md=-(2/n)*sum(x*(y-yp))
        bd=-(2/n)*sum(y-yp)
        m=m-lr*md
        b=b-lr*bd
        
    
    return m,b

file = pd.read_csv("test_scores.csv")
x = np.array(file.math)
y = np.array(file.cs)

gradient_descent(x,y)
