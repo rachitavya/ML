{
 "cells": [
  {
   "cell_type": "code",
   "execution_count": 22,
   "id": "1102bfa0",
   "metadata": {
    "scrolled": true
   },
   "outputs": [
    {
     "data": {
      "text/plain": [
       "(1.0390524972633637, 0.4045913382155772)"
      ]
     },
     "execution_count": 22,
     "metadata": {},
     "output_type": "execute_result"
    }
   ],
   "source": [
    "import numpy as np\n",
    "import math\n",
    "import pandas as pd\n",
    "\n",
    "def gradient_descent(x,y) :\n",
    "    m=b=0\n",
    "    i=10000\n",
    "    n=len(x)\n",
    "    lr=0.0002\n",
    "    \n",
    "    for j in range(i):\n",
    "        yp=m*x+b\n",
    "        cost=(1/n)*sum([val**2 for val in (y-yp)])\n",
    "        md=-(2/n)*sum(x*(y-yp))\n",
    "        bd=-(2/n)*sum(y-yp)\n",
    "        m=m-lr*md\n",
    "        b=b-lr*bd\n",
    "        \n",
    "    \n",
    "    return m,b\n",
    "\n",
    "file = pd.read_csv(\"test_scores.csv\")\n",
    "x = np.array(file.math)\n",
    "y = np.array(file.cs)\n",
    "\n",
    "gradient_descent(x,y)"
   ]
  },
  {
   "cell_type": "code",
   "execution_count": null,
   "id": "4f6eb8ae",
   "metadata": {},
   "outputs": [],
   "source": []
  },
  {
   "cell_type": "code",
   "execution_count": null,
   "id": "93b631e4",
   "metadata": {},
   "outputs": [],
   "source": []
  },
  {
   "cell_type": "code",
   "execution_count": null,
   "id": "3f3f805a",
   "metadata": {},
   "outputs": [],
   "source": []
  },
  {
   "cell_type": "code",
   "execution_count": null,
   "id": "fcb4e227",
   "metadata": {},
   "outputs": [],
   "source": []
  }
 ],
 "metadata": {
  "kernelspec": {
   "display_name": "Python 3 (ipykernel)",
   "language": "python",
   "name": "python3"
  },
  "language_info": {
   "codemirror_mode": {
    "name": "ipython",
    "version": 3
   },
   "file_extension": ".py",
   "mimetype": "text/x-python",
   "name": "python",
   "nbconvert_exporter": "python",
   "pygments_lexer": "ipython3",
   "version": "3.9.7"
  }
 },
 "nbformat": 4,
 "nbformat_minor": 5
}
